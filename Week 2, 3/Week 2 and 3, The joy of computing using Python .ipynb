{
 "cells": [
  {
   "cell_type": "markdown",
   "metadata": {},
   "source": [
    "#### This assignment is just to make you people comfortable with the NPTEL programming environment.Before attempting the programming assignments, please make sure you have gone through how to attempt the programming assignments.\n",
    "\n",
    "Write a program in python to read the integer number as input  and print the same.\n",
    "\n",
    "Input\n",
    "\n",
    "The input will contain only one number.\n",
    "\n",
    "Output\n",
    "\n",
    "Output the same number.\n",
    "\n",
    "Example\n",
    "\n",
    "Input\n",
    "\n",
    "10\n",
    "\n",
    "Output\n",
    "10"
   ]
  },
  {
   "cell_type": "code",
   "execution_count": 1,
   "metadata": {},
   "outputs": [
    {
     "name": "stdout",
     "output_type": "stream",
     "text": [
      "10\n",
      "10\n"
     ]
    }
   ],
   "source": [
    "a=int(input(\"\"))\n",
    "print(a)"
   ]
  },
  {
   "cell_type": "markdown",
   "metadata": {},
   "source": [
    "#### Week 2 Programming Assignment 2\n",
    "Due on 2021-02-07, 23:59 IST\n",
    "## Write a program to multiply given two integers and display the result.\n",
    "\n",
    "Input format:\n",
    "\n",
    "The first line of the input contains two numbers separated by a space\n",
    "\n",
    "Output Format:\n",
    "\n",
    "Print the result in single line\n",
    "\n",
    "Example:\n",
    "\n",
    "Input\n",
    "\n",
    "4 2\n",
    "\n",
    "Output\n",
    "\n",
    "8\n",
    "Private Test cases used for evaluation\tInput\tExpected Output\tActual Output\tStatus\n",
    "Test Case 1\t\n",
    "11 4\n",
    " 44\n",
    "44\n",
    "Passed\n",
    "Test Case 2\t\n",
    "12 12\n",
    " 144\n",
    "144\n",
    "Passed\n",
    "Test Case 3\t\n",
    "15 10\n",
    " 150\n",
    "150\n",
    "Passed\n",
    "\n",
    "The due date for submitting this assignment has passed.\n",
    "3 out of 3 tests passed."
   ]
  },
  {
   "cell_type": "code",
   "execution_count": 4,
   "metadata": {},
   "outputs": [
    {
     "name": "stdout",
     "output_type": "stream",
     "text": [
      "4 2\n",
      "8"
     ]
    }
   ],
   "source": [
    "a,b=map(int,input().split());\n",
    "print(a*b,end=\"\");"
   ]
  },
  {
   "cell_type": "markdown",
   "metadata": {},
   "source": [
    "Week 2 Programming Assignment 3\n",
    "Due on 2021-02-07, 23:59 IST\n",
    "## Given two integer numbers as input, print the larger number.\n",
    "\n",
    "Input format:\n",
    "\n",
    "The first line of input contains two numbers separated by a space\n",
    "\n",
    "Output Format:\n",
    "\n",
    "Print the larger number\n",
    "\n",
    "Example\n",
    "\n",
    "Input\n",
    "\n",
    "2 3\n",
    "\n",
    "Output\n",
    "\n",
    "3\n",
    "Private Test cases used for evaluation\tInput\tExpected Output\tActual Output\tStatus\n",
    "Test Case 1\t\n",
    "22 22\n",
    " 22\n",
    "22\n",
    "Passed\n",
    "Test Case 2\t\n",
    "34 56\n",
    " 56\n",
    "56\n",
    "Passed\n",
    "Test Case 3\t\n",
    "89 100\n",
    " 100\n",
    "100\n",
    "Passed\n",
    "\n",
    "The due date for submitting this assignment has passed."
   ]
  },
  {
   "cell_type": "code",
   "execution_count": 5,
   "metadata": {},
   "outputs": [
    {
     "name": "stdout",
     "output_type": "stream",
     "text": [
      "2 3\n",
      "3"
     ]
    }
   ],
   "source": [
    "a,b=map(int,input().split());\n",
    "print(a if a>b else b,end=\"\");"
   ]
  },
  {
   "cell_type": "markdown",
   "metadata": {},
   "source": [
    "#### We have seen how loops work in python. Now let's implement and concertize our concepts.\n",
    "\n",
    "## Given a list A of numbers (integers), you have to print those numbers which are not ending with 4.\n",
    "\n",
    "Input Format\n",
    "\n",
    "The first line contains numbers separated by a space.\n",
    "\n",
    "Output Format\n",
    "\n",
    "Print the resultant array elements separated by a space. (no space after the last element)\n",
    "\n",
    "Example\n",
    "\n",
    "Input\n",
    "\n",
    "2 3 5 4 7 12 14 13 24 40 14\n",
    "\n",
    "Output\n",
    "\n",
    "2 3 5 7 12 13 40\n",
    "Sample Test Cases\n",
    "Input\tOutput\n",
    "Test Case 1\t\n",
    "-4 -8 9 0 12 68\n",
    "-8 9 0 12 68\n",
    "Test Case 2\t\n",
    "8 2 5 3 9 0 3\n",
    "8 2 5 3 9 0 3\n",
    "Test Case 3\t\n",
    "44 4 34 24 54\n",
    "Test Case 4\t\n",
    "12 46 78 4 0 1\n",
    "12 46 78 0 1\n",
    "Test Case 5\t\n",
    "23 -4 8 9 -7 1\n",
    "23 8 9 -7 1\n",
    "Test Case 6\t\n",
    "0 0 4 4 1 78\n",
    "0 0 1 78\n"
   ]
  },
  {
   "cell_type": "code",
   "execution_count": 6,
   "metadata": {},
   "outputs": [
    {
     "name": "stdout",
     "output_type": "stream",
     "text": [
      "2 3 5 4 7 12 14 13 24 40 14\n",
      "2 3 5 7 12 13 40 "
     ]
    }
   ],
   "source": [
    "A = [int(i) for i in input().split()]\n",
    "for i in A:\n",
    "  if abs(i) % 10 != 4:\n",
    "    print(i, end =\" \")"
   ]
  },
  {
   "cell_type": "markdown",
   "metadata": {},
   "source": [
    "## Week 3 Programming Assignment 2\n",
    "Due on 2021-02-11, 23:59 IST\n",
    "#### Given a list of numbers (integers),\n",
    "find the sum of second maximum and second minimum in this list.\n",
    "\n",
    "Input Format\n",
    "\n",
    "The first line contains numbers separated by a space.\n",
    "\n",
    "Output Format\n",
    "\n",
    "Print the sum of second maximum and second minimum\n",
    "\n",
    "Example\n",
    "\n",
    "Input\n",
    "\n",
    "2 3 5 4 7 6\n",
    "\n",
    "Output\n",
    "\n",
    "9\n",
    "Sample Test Cases\n",
    "Input\tOutput\n",
    "Test Case 1\t\n",
    "1 -2 3 5 -4 0\n",
    "1\n",
    "Test Case 2\t\n",
    "4 4 2 3 5 6 1 0\n",
    "6\n",
    "Test Case 3\t\n",
    "3 -2 5 0 1 4 9 10\n",
    "9\n",
    "Test Case 4\t\n",
    "2 2 2 2 2\n",
    "4\n",
    "Test Case 5\t\n",
    "-1 -2 -3 -4 -5\n",
    "-6\n",
    "Test Case 6\t\n",
    "2 6 4 3 8 5 8\n",
    "9\n"
   ]
  },
  {
   "cell_type": "code",
   "execution_count": 7,
   "metadata": {},
   "outputs": [
    {
     "name": "stdout",
     "output_type": "stream",
     "text": [
      "1 -2 3 5 -4 0 1\n",
      "1\n"
     ]
    }
   ],
   "source": [
    "A = [int(i) for i in input().split()]\n",
    "B = []\n",
    "for i in A:\n",
    "  if i not in B:\n",
    "    B.append(i)\n",
    "B.sort()\n",
    "if (len(B)==1):\n",
    "  print(2*B[0])\n",
    "else:\n",
    "  print(B[1]+B[-2])"
   ]
  },
  {
   "cell_type": "markdown",
   "metadata": {},
   "source": [
    "#### Week 3 Programming Assignment 3\n",
    "Due on 2021-02-11, 23:59 IST\n",
    "## Given an array A of N integers, you have to write a python code to eliminate the duplicate integers of the array.\n",
    "\n",
    "Input Format\n",
    "\n",
    "The first line of the input contains a number N representing the number of elements in array A.\n",
    "\n",
    "The second line of the input contains N numbers separated by a space. (after the last element, there is no space)\n",
    "\n",
    "Output Format\n",
    "\n",
    "Print the resultant array of elements separated by a space. (no space after the last element)\n",
    "\n",
    "Example\n",
    "\n",
    "Input\n",
    "6\n",
    "1 2 4 2 5 4\n",
    "\n",
    "Output\n",
    "1 2 4 5\n",
    "Sample Test Cases\n",
    "Input\tOutput\n",
    "Test Case 1\t\n",
    "6\n",
    "-4 -3 -3 5 6 0\n",
    "-4 -3 5 6 0\n",
    "Test Case 2\t\n",
    "5\n",
    "1 1 1 1 1\n",
    "1\n",
    "Test Case 3\t\n",
    "6\n",
    "0 1 2 3 4 5\n",
    "0 1 2 3 4 5\n",
    "Test Case 4\t\n",
    "7\n",
    "2 1 1 5 6 5 7\n",
    "2 1 5 6 7\n",
    "Test Case 5\t\n",
    "5\n",
    "4 7 5 2 1\n",
    "4 7 5 2 1\n",
    "Test Case 6\t\n",
    "8\n",
    "5 9 0 3 4 4 5 5 \n",
    "5 9 0 3 4 \n"
   ]
  },
  {
   "cell_type": "code",
   "execution_count": 11,
   "metadata": {},
   "outputs": [
    {
     "name": "stdout",
     "output_type": "stream",
     "text": [
      "6\n",
      "1\n",
      "1 "
     ]
    }
   ],
   "source": [
    "n=int(input())\n",
    "A = [int(i) for i in input().split()]\n",
    "B = []\n",
    "for i in A:\n",
    "      if i not in B:\n",
    "        B.append(i)\n",
    "        print(i, end =\" \")"
   ]
  }
 ],
 "metadata": {
  "kernelspec": {
   "display_name": "Python 3",
   "language": "python",
   "name": "python3"
  },
  "language_info": {
   "codemirror_mode": {
    "name": "ipython",
    "version": 3
   },
   "file_extension": ".py",
   "mimetype": "text/x-python",
   "name": "python",
   "nbconvert_exporter": "python",
   "pygments_lexer": "ipython3",
   "version": "3.8.3"
  }
 },
 "nbformat": 4,
 "nbformat_minor": 4
}
