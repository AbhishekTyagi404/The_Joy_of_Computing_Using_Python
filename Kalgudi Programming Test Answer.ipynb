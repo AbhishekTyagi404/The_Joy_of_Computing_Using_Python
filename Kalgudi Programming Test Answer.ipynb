{
 "cells": [
  {
   "cell_type": "markdown",
   "metadata": {},
   "source": [
    "## Use a function (let's say SpeakWhat YouSee) which takes 2 positive integers as arguments and generate a series and returns last term as output of initial n terms from the starting.\n",
    "\n",
    "Each term in the speak-what-you-see series (except for the first term) is formed using the trailing term using below given process.\n",
    "\n",
    "For example consider a number 222423322, starting with a term in the series\n",
    "\n",
    "Separate the term into sub-sequences of consecutive repeating digits:\n",
    "\n",
    "### 222 4 2 33 22\n",
    "\n",
    "Count the number of digits in each subsequence\n",
    "\n",
    "### Three 2 one 4 one 2 two 3 two 2\n",
    "\n",
    "Turn everything into digits\n",
    "\n",
    "### 32 14 122322\n",
    "\n",
    "Now combate everything into one number\n",
    "\n",
    "### 3214122322\n",
    "\n",
    "### So 3214122322 is the next term in the sequence after 222423322"
   ]
  },
  {
   "cell_type": "code",
   "execution_count": 56,
   "metadata": {},
   "outputs": [
    {
     "name": "stdout",
     "output_type": "stream",
     "text": [
      "1 7\n"
     ]
    },
    {
     "data": {
      "text/plain": [
       "'13112221'"
      ]
     },
     "execution_count": 56,
     "metadata": {},
     "output_type": "execute_result"
    }
   ],
   "source": [
    "class Solution:\n",
    "    def countAndSay(self, n):\n",
    "        def getNextNumber(s):\n",
    "            result = []\n",
    "            i = 0\n",
    "            while i < len(s):\n",
    "                count = 1\n",
    "                while i < len(s) -1 and s[i] == s[i+1]:\n",
    "                    count += 1\n",
    "                    i += 1\n",
    "                result.append(str(count) + s[i])\n",
    "                i += 1\n",
    "            return ''.join(result)\n",
    "        ans = \"1\"\n",
    "        for _ in range(n-1):\n",
    "            ans = getNextNumber(ans)\n",
    "        return ans\n",
    "\n",
    "#TEST CASES\n",
    "n, n=map(int,input().split())\n",
    "Object = Solution()\n",
    "Object.countAndSay(n)\n"
   ]
  },
  {
   "cell_type": "code",
   "execution_count": null,
   "metadata": {},
   "outputs": [],
   "source": []
  }
 ],
 "metadata": {
  "kernelspec": {
   "display_name": "Python 3",
   "language": "python",
   "name": "python3"
  },
  "language_info": {
   "codemirror_mode": {
    "name": "ipython",
    "version": 3
   },
   "file_extension": ".py",
   "mimetype": "text/x-python",
   "name": "python",
   "nbconvert_exporter": "python",
   "pygments_lexer": "ipython3",
   "version": "3.8.5"
  }
 },
 "nbformat": 4,
 "nbformat_minor": 4
}
