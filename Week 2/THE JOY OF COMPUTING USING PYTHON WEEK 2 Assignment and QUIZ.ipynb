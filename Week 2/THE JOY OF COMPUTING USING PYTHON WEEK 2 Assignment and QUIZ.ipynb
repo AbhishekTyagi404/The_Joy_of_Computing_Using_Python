{
 "cells": [
  {
   "cell_type": "markdown",
   "metadata": {},
   "source": [
    "# The Joy of Computing using Python NPTEL\n",
    "# NPTEL Week 2 Solutions Help yourself \n",
    "## Topics of week 2\n",
    "Introduction to Anaconda\n",
    "Installation of Anaconda\n",
    "Introduction to Spyder IDE\n",
    "Printing statements in Python\n",
    "Understanding Variables in Python\n",
    "Executing a sequence of instructions in the Console\n",
    "Writing your First Program\n",
    "Taking inputs from the user\n",
    "Discount Calculation\n",
    "Motivation to if condition\n",
    "A reminder on how to deal with numbers\n",
    "Understanding if condition's working\n",
    "Realizing the importance of syntax and indentation\n",
    "Introductions to loops\n",
    "Loops: Sum of numbers\n",
    "Loops: Sum of numbers (continued)\n",
    "Loops: Multiplication Tables\n",
    "Introduction to While Loop"
   ]
  },
  {
   "cell_type": "code",
   "execution_count": 1,
   "metadata": {},
   "outputs": [
    {
     "name": "stdout",
     "output_type": "stream",
     "text": [
      "numbers are not equal\n"
     ]
    }
   ],
   "source": [
    "a=3\n",
    "\n",
    "b=3.0\n",
    "\n",
    "if(a-b):\n",
    "\n",
    "  print (\"numbers are equal\")\n",
    "\n",
    "else:\n",
    "\n",
    "  print(\"numbers are not equal\")"
   ]
  },
  {
   "cell_type": "code",
   "execution_count": 3,
   "metadata": {},
   "outputs": [
    {
     "name": "stdout",
     "output_type": "stream",
     "text": [
      "0\n",
      "2\n",
      "4\n",
      "6\n",
      "8\n",
      "10\n",
      "12\n",
      "14\n",
      "16\n",
      "18\n"
     ]
    }
   ],
   "source": [
    "for i in range(0,20,2):\n",
    "    print(i)"
   ]
  },
  {
   "cell_type": "code",
   "execution_count": 4,
   "metadata": {},
   "outputs": [
    {
     "name": "stdout",
     "output_type": "stream",
     "text": [
      "10 10\n"
     ]
    }
   ],
   "source": [
    "a = 10\n",
    "b = 100%90\n",
    "print(a,b)"
   ]
  },
  {
   "cell_type": "code",
   "execution_count": 5,
   "metadata": {},
   "outputs": [
    {
     "name": "stdout",
     "output_type": "stream",
     "text": [
      "5040\n"
     ]
    }
   ],
   "source": [
    "a = 1\n",
    "for i in range (1, 7):\n",
    "    a = a*(i+1)\n",
    "print(a)"
   ]
  },
  {
   "cell_type": "code",
   "execution_count": 23,
   "metadata": {},
   "outputs": [
    {
     "name": "stdout",
     "output_type": "stream",
     "text": [
      "Enter the number-5\n",
      "-4\n",
      "-3\n",
      "-2\n",
      "-1\n",
      "0\n",
      "1\n"
     ]
    }
   ],
   "source": [
    "a = int(input(\"Enter the number\"))\n",
    "for i in range(1,7):\n",
    "    print(a+i)"
   ]
  },
  {
   "cell_type": "code",
   "execution_count": 9,
   "metadata": {},
   "outputs": [
    {
     "name": "stdout",
     "output_type": "stream",
     "text": [
      "7\n",
      "6\n",
      "5\n",
      "4\n",
      "3\n",
      "2\n",
      "1\n"
     ]
    }
   ],
   "source": [
    "a = 8\n",
    "while(a>1):\n",
    "    a=a-1\n",
    "    print(a)"
   ]
  },
  {
   "cell_type": "code",
   "execution_count": 17,
   "metadata": {},
   "outputs": [
    {
     "name": "stdout",
     "output_type": "stream",
     "text": [
      "1\n",
      "4\n",
      "Hi1and4Welcome to the game\n",
      "Hi1 and 4Welcome to the game\n",
      "Hi user1 and user2 Welcome to the game\n",
      "Hi 1 and 4 Welcome to the game\n"
     ]
    }
   ],
   "source": [
    "user1 = input()\n",
    "user2= input()\n",
    "print(\"Hi\"+user1+\"and\"+user2+\"Welcome to the game\")\n",
    "print(\"Hi\"+user1,\"and\",user2+\"Welcome to the game\")\n",
    "print(\"Hi\",\"user1\",\"and\",\"user2\",\"Welcome to the game\")\n",
    "print(\"Hi\",user1,\"and\",user2,\"Welcome to the game\")"
   ]
  },
  {
   "cell_type": "code",
   "execution_count": 20,
   "metadata": {
    "scrolled": true
   },
   "outputs": [
    {
     "ename": "SyntaxError",
     "evalue": "invalid syntax (<ipython-input-20-f1d85718d21a>, line 1)",
     "output_type": "error",
     "traceback": [
      "\u001b[1;36m  File \u001b[1;32m\"<ipython-input-20-f1d85718d21a>\"\u001b[1;36m, line \u001b[1;32m1\u001b[0m\n\u001b[1;33m    variable 1=input()\u001b[0m\n\u001b[1;37m             ^\u001b[0m\n\u001b[1;31mSyntaxError\u001b[0m\u001b[1;31m:\u001b[0m invalid syntax\n"
     ]
    }
   ],
   "source": [
    "variable 1=input()\n",
    "print(variable_1)"
   ]
  },
  {
   "cell_type": "code",
   "execution_count": 2,
   "metadata": {},
   "outputs": [
    {
     "name": "stdout",
     "output_type": "stream",
     "text": [
      "22\n",
      "22\n"
     ]
    }
   ],
   "source": [
    "\"\"\"Input\n",
    "\n",
    "The input will contain only one number.\n",
    "\n",
    "Output\n",
    "\n",
    "Output the same number.\n",
    "\n",
    "Example\n",
    "\n",
    "Input\n",
    "\n",
    "10\n",
    "\n",
    "Output\n",
    "\"\"\"\n",
    "b=int(input());\n",
    "print(b)"
   ]
  },
  {
   "cell_type": "code",
   "execution_count": 3,
   "metadata": {},
   "outputs": [
    {
     "name": "stdout",
     "output_type": "stream",
     "text": [
      "2 4\n",
      "8"
     ]
    }
   ],
   "source": [
    "\"\"\"Input format:\n",
    "\n",
    "The first line of the input contains two numbers separated by a space\n",
    "\n",
    "Output Format:\n",
    "\n",
    "Print the result in single line\n",
    "\n",
    "Example:\n",
    "\n",
    "Input\n",
    "\n",
    "4 2\n",
    "\n",
    "Output\n",
    "\n",
    "8\"\"\"\n",
    "\n",
    "a,b=map(int,input().split());\n",
    "print(a*b,end=\"\");"
   ]
  },
  {
   "cell_type": "code",
   "execution_count": 4,
   "metadata": {},
   "outputs": [
    {
     "name": "stdout",
     "output_type": "stream",
     "text": [
      "2 3\n",
      "3"
     ]
    }
   ],
   "source": [
    "\"\"\"\n",
    "Input format:\n",
    "\n",
    "The first line of input contains two numbers separated by a space\n",
    "\n",
    "Output Format:\n",
    "\n",
    "Print the larger number\n",
    "\n",
    "Example\n",
    "\n",
    "Input\n",
    "\n",
    "2 3\n",
    "\n",
    "Output\n",
    "\n",
    "3\n",
    "\"\"\"\n",
    "a,b=map(int,input().split());\n",
    "print(a if a>b else b,end=\"\");"
   ]
  },
  {
   "cell_type": "code",
   "execution_count": 24,
   "metadata": {},
   "outputs": [
    {
     "data": {
      "text/plain": [
       "[2, 3, 5]"
      ]
     },
     "execution_count": 24,
     "metadata": {},
     "output_type": "execute_result"
    }
   ],
   "source": [
    "L= [0, 1, 1, 2, 3, 5, 8, 13, 21, 34]\n",
    "L [3:6]"
   ]
  },
  {
   "cell_type": "code",
   "execution_count": 25,
   "metadata": {},
   "outputs": [
    {
     "name": "stdout",
     "output_type": "stream",
     "text": [
      "Science\n",
      "mathematics\n",
      "English\n"
     ]
    }
   ],
   "source": [
    "course_list= [\"Science\", \"mathematics\", \"English\"]\n",
    "for course in course_list:\n",
    "    print(course)"
   ]
  },
  {
   "cell_type": "code",
   "execution_count": 26,
   "metadata": {},
   "outputs": [],
   "source": [
    "##FizzBuzz Game Code to check yourself\n",
    "\n",
    "class Solution:\n",
    "    def fizzBuzz(self, n):\n",
    "        \"\"\"\n",
    "        :type n: int\n",
    "        :rtype: List[str]\n",
    "        \"\"\"\n",
    "        # ans list\n",
    "        ans = []\n",
    "\n",
    "        for num in range(1,n+1):\n",
    "\n",
    "            divisible_by_3 = (num % 3 == 0)\n",
    "            divisible_by_5 = (num % 5 == 0)\n",
    "\n",
    "            if divisible_by_3 and divisible_by_5:\n",
    "                # Divides by both 3 and 5, add FizzBuzz\n",
    "                ans.append(\"FizzBuzz\")\n",
    "            elif divisible_by_3:\n",
    "                # Divides by 3, add Fizz\n",
    "                ans.append(\"Fizz\")\n",
    "            elif divisible_by_5:\n",
    "                # Divides by 5, add Buzz\n",
    "                ans.append(\"Buzz\")\n",
    "            else:\n",
    "                # Not divisible by 3 or 5, add the number\n",
    "                ans.append(str(num))\n",
    "\n",
    "        return ans\n",
    "    "
   ]
  },
  {
   "cell_type": "code",
   "execution_count": null,
   "metadata": {},
   "outputs": [],
   "source": []
  }
 ],
 "metadata": {
  "kernelspec": {
   "display_name": "Python 3",
   "language": "python",
   "name": "python3"
  },
  "language_info": {
   "codemirror_mode": {
    "name": "ipython",
    "version": 3
   },
   "file_extension": ".py",
   "mimetype": "text/x-python",
   "name": "python",
   "nbconvert_exporter": "python",
   "pygments_lexer": "ipython3",
   "version": "3.8.3"
  }
 },
 "nbformat": 4,
 "nbformat_minor": 4
}
